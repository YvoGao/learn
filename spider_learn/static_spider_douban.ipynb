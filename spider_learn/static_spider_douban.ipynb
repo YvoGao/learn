{
 "cells": [
  {
   "cell_type": "markdown",
   "metadata": {},
   "source": [
    "# 静态页面爬取\n",
    "\n",
    "以豆瓣电影网站为例，使用request,pyquery,re进行爬取解析页面信息，将电影的基本信息存储到mongodb中。"
   ]
  },
  {
   "cell_type": "markdown",
   "metadata": {},
   "source": [
    "## 引入需要的包 "
   ]
  },
  {
   "cell_type": "code",
   "execution_count": 1,
   "metadata": {},
   "outputs": [],
   "source": [
    "import requests\n",
    "import logging\n",
    "import re\n",
    "import pymongo\n",
    "from pyquery import PyQuery as pq\n",
    "\n",
    "logging.basicConfig(level=logging.INFO,\n",
    "                    format='%(asctime)s - %(levelname)s: %(message)s')\n",
    "url = 'https://movie.douban.com'\n",
    "headers ={'User-Agent': 'Mozilla/5.0 (Windows NT 10.0; Win64; x64) AppleWebKit/537.36 (KHTML, like Gecko) Chrome/79.0.3945.130 Safari/537.36 OPR/66.0.3515.115'}"
   ]
  },
  {
   "cell_type": "markdown",
   "metadata": {},
   "source": [
    "## 定义获取html文件的基本函数"
   ]
  },
  {
   "cell_type": "markdown",
   "metadata": {},
   "source": [
    "豆瓣网站首页信息的爬取，如果不适用头文件的话，会被拦截，无法获得信息。"
   ]
  },
  {
   "cell_type": "code",
   "execution_count": 2,
   "metadata": {},
   "outputs": [],
   "source": [
    "def get_html(url, headers):\n",
    "    \n",
    "    logging.info('scraping %s...', url)\n",
    "    try:\n",
    "        response = requests.get(url, headers = headers)\n",
    "        if response.status_code == 200:\n",
    "            return response.text\n",
    "        logging.error('get invalid status code %s while scraping %s', response.status_code, url)\n",
    "    except requests.RequestException:\n",
    "        logging.error('error occurred while scraping %s', url, exc_info=True)"
   ]
  },
  {
   "cell_type": "markdown",
   "metadata": {},
   "source": [
    "## 定义获取所有详情页的url函数"
   ]
  },
  {
   "cell_type": "code",
   "execution_count": 9,
   "metadata": {},
   "outputs": [],
   "source": [
    "def get_all_urls():\n",
    "    doc = pq(url,headers=headers)\n",
    "    detail = doc('.ui-slide-item')\n",
    "    # print(detail)\n",
    "    details = re.findall('href=\"(.*?)\"',str(detail), re.S)\n",
    "    detail = []\n",
    "    for d in details:\n",
    "        if 'gallery' not in d and 'from=showing' in d and d not in detail:\n",
    "            detail.append(d)\n",
    "    return detail"
   ]
  },
  {
   "cell_type": "markdown",
   "metadata": {},
   "source": [
    "## 定义解析详细信息的函数"
   ]
  },
  {
   "cell_type": "code",
   "execution_count": 3,
   "metadata": {
    "scrolled": true
   },
   "outputs": [],
   "source": [
    "def parse_info(html):\n",
    "    doc = pq(html)\n",
    "    cover = doc('#mainpic').children('a').children().attr('src')\n",
    "    title = doc('h1')\n",
    "    name = re.search('<span property=\"v:itemreviewed\">(.*?)</span>', str(title), re.S)\n",
    "    name = re.sub('<span property=\"v:itemreviewed\">|</span>','',str(name.group()))\n",
    "    links = doc('#info')\n",
    "    leader = re.search('rel=\"v:directedBy\">(.*?)</a>',str(links),re.S)\n",
    "    leader = re.sub('rel=\"v:directedBy\">|</a>','',str(leader.group()))\n",
    "    time = re.search('<span property=\"v:runtime\" content=\"(.*?)\">',str(links),re.S)\n",
    "    time = re.sub('<span property=\"v:runtime\" content=\\\"|\\\">', '',str(time.group()))\n",
    "    publish = re.search('上映日期:</span> <span property=\"v:initialReleaseDate\" content=\"(.*?)\">',str(links),re.S)\n",
    "    publish = re.sub('上映日期:</span> <span property=\"v:initialReleaseDate\" content=\\\"|\\\">','',str(publish.group()))\n",
    "    categories = re.findall('<span property=\"v:genre\">(.*?)</span>',str(links),re.S)\n",
    "    score = pq(doc.find('#interest_sectl'))\n",
    "    score = re.findall(' <strong class=\"ll rating_num\" property=\"v:average\">(.*?)<', str(score), re.S)\n",
    "    return {\n",
    "        'cover': cover,\n",
    "        'name': name,\n",
    "        'categories': categories,\n",
    "        'published_at': publish,\n",
    "        'director': leader,\n",
    "        'score': score\n",
    "    }"
   ]
  },
  {
   "cell_type": "markdown",
   "metadata": {},
   "source": [
    "## 将函数链接起来"
   ]
  },
  {
   "cell_type": "code",
   "execution_count": 10,
   "metadata": {},
   "outputs": [
    {
     "name": "stderr",
     "output_type": "stream",
     "text": [
      "2020-09-06 15:55:10,769 - INFO: scraping https://movie.douban.com/subject/30444960/?from=showing...\n",
      "2020-09-06 15:55:11,688 - INFO: get detail data {'cover': 'https://img9.doubanio.com/view/photo/s_ratio_poster/public/p2618403186.jpg', 'name': '信条 Tenet', 'categories': ['剧情', '动作', '科幻'], 'published_at': '2020-09-04(中国大陆)', 'director': '克里斯托弗·诺兰', 'score': ['7.9']}\n",
      "2020-09-06 15:55:11,689 - INFO: scraping https://movie.douban.com/subject/26754233/?from=showing...\n",
      "2020-09-06 15:55:12,410 - INFO: get detail data {'cover': 'https://img9.doubanio.com/view/photo/s_ratio_poster/public/p2615992304.jpg', 'name': '八佰', 'categories': ['剧情', '历史', '战争'], 'published_at': '2020-08-21(中国大陆)', 'director': '管虎', 'score': ['7.7']}\n",
      "2020-09-06 15:55:12,411 - INFO: scraping https://movie.douban.com/subject/27126336/?from=showing...\n",
      "2020-09-06 15:55:13,159 - INFO: get detail data {'cover': 'https://img2.doubanio.com/view/photo/s_ratio_poster/public/p2616924633.jpg', 'name': '假面饭店 マスカレード・ホテル', 'categories': ['剧情', '悬疑', '犯罪'], 'published_at': '2020-09-04(中国大陆)', 'director': '铃木雅之', 'score': ['6.4']}\n",
      "2020-09-06 15:55:13,159 - INFO: scraping https://movie.douban.com/subject/26348103/?from=showing...\n",
      "2020-09-06 15:55:13,948 - INFO: get detail data {'cover': 'https://img9.doubanio.com/view/photo/s_ratio_poster/public/p2616349755.jpg', 'name': '小妇人 Little Women', 'categories': ['剧情', '爱情'], 'published_at': '2020-08-25(中国大陆)', 'director': '格蕾塔·葛韦格', 'score': ['8.1']}\n",
      "2020-09-06 15:55:13,949 - INFO: scraping https://movie.douban.com/subject/30252495/?from=showing...\n",
      "2020-09-06 15:55:14,894 - INFO: get detail data {'cover': 'https://img9.doubanio.com/view/photo/s_ratio_poster/public/p2615015805.jpg', 'name': '1917', 'categories': ['剧情', '战争'], 'published_at': '2020-08-07(中国大陆)', 'director': '萨姆·门德斯', 'score': ['8.5']}\n",
      "2020-09-06 15:55:14,894 - INFO: scraping https://movie.douban.com/subject/30170833/?from=showing...\n",
      "2020-09-06 15:55:15,506 - INFO: get detail data {'cover': 'https://img1.doubanio.com/view/photo/s_ratio_poster/public/p2616740389.jpg', 'name': '荞麦疯长', 'categories': ['剧情', '爱情'], 'published_at': '2020-08-25(中国大陆)', 'director': '徐展雄', 'score': ['4.5']}\n",
      "2020-09-06 15:55:15,506 - INFO: scraping https://movie.douban.com/subject/26661193/?from=showing...\n",
      "2020-09-06 15:55:16,151 - INFO: get detail data {'cover': 'https://img3.doubanio.com/view/photo/s_ratio_poster/public/p2614225081.jpg', 'name': '我在时间尽头等你', 'categories': ['爱情', '奇幻'], 'published_at': '2020-08-25(中国大陆)', 'director': '姚婷婷', 'score': ['5.1']}\n",
      "2020-09-06 15:55:16,152 - INFO: scraping https://movie.douban.com/subject/30401849/?from=showing...\n",
      "2020-09-06 15:55:16,714 - INFO: get detail data {'cover': 'https://img2.doubanio.com/view/photo/s_ratio_poster/public/p2616349563.jpg', 'name': '1/2的魔法 Onward', 'categories': ['喜剧', '动画', '奇幻', '冒险'], 'published_at': '2020-08-19(中国大陆)', 'director': '丹·斯坎隆', 'score': ['7.7']}\n",
      "2020-09-06 15:55:16,714 - INFO: scraping https://movie.douban.com/subject/3541415/?from=showing...\n",
      "2020-09-06 15:55:17,988 - INFO: get detail data {'cover': 'https://img2.doubanio.com/view/photo/s_ratio_poster/public/p2616355133.jpg', 'name': '盗梦空间 Inception', 'categories': ['剧情', '科幻', '悬疑', '冒险'], 'published_at': '2010-09-01(中国大陆)', 'director': '克里斯托弗·诺兰', 'score': ['9.3']}\n",
      "2020-09-06 15:55:17,988 - INFO: scraping https://movie.douban.com/subject/34801105/?from=showing...\n",
      "2020-09-06 15:55:18,601 - INFO: get detail data {'cover': 'https://img3.doubanio.com/view/photo/s_ratio_poster/public/p2616925180.jpg', 'name': '阿里巴巴与神灯', 'categories': ['动画', '冒险'], 'published_at': '2020-09-05(中国大陆)', 'director': '朱葛', 'score': []}\n",
      "2020-09-06 15:55:18,602 - INFO: scraping https://movie.douban.com/subject/35182994/?from=showing...\n",
      "2020-09-06 15:55:19,063 - INFO: get detail data {'cover': 'https://img1.doubanio.com/view/photo/s_ratio_poster/public/p2618637379.jpg', 'name': '谁说我们不会爱2', 'categories': ['喜剧', '爱情'], 'published_at': '2020-09-04(中国大陆)', 'director': '刘宝贤', 'score': []}\n",
      "2020-09-06 15:55:19,063 - INFO: scraping https://movie.douban.com/subject/26985839/?from=showing...\n",
      "2020-09-06 15:55:19,861 - INFO: get detail data {'cover': 'https://img2.doubanio.com/view/photo/s_ratio_poster/public/p2616436093.jpg', 'name': '魔发精灵2 Trolls World Tour', 'categories': ['动画', '歌舞', '奇幻', '冒险'], 'published_at': '2020-08-21(中国大陆)', 'director': '沃尔特·道恩', 'score': ['6.3']}\n",
      "2020-09-06 15:55:19,862 - INFO: scraping https://movie.douban.com/subject/27000981/?from=showing...\n",
      "2020-09-06 15:55:20,382 - INFO: get detail data {'cover': 'https://img1.doubanio.com/view/photo/s_ratio_poster/public/p2614594787.jpg', 'name': '多力特的奇幻冒险 Dolittle', 'categories': ['喜剧', '奇幻', '冒险'], 'published_at': '2020-07-24(中国大陆)', 'director': '斯蒂芬·加汉', 'score': ['5.8']}\n",
      "2020-09-06 15:55:20,382 - INFO: scraping https://movie.douban.com/subject/1295038/?from=showing...\n",
      "2020-09-06 15:55:21,024 - INFO: get detail data {'cover': 'https://img9.doubanio.com/view/photo/s_ratio_poster/public/p2614949805.jpg', 'name': \"哈利·波特与魔法石 Harry Potter and the Sorcerer's Stone\", 'categories': ['奇幻', '冒险'], 'published_at': '2002-01-26(中国大陆)', 'director': '克里斯·哥伦布', 'score': ['9.1']}\n"
     ]
    }
   ],
   "source": [
    "def main():\n",
    "    detail = get_all_urls()\n",
    "    for d in detail:\n",
    "        html =get_html(d, headers)\n",
    "        data = parse_info(html)\n",
    "        logging.info('get detail data %s', data)\n",
    "if __name__ == '__main__':\n",
    "    main()"
   ]
  },
  {
   "cell_type": "markdown",
   "metadata": {},
   "source": [
    "## 存储到mongodb中 "
   ]
  },
  {
   "cell_type": "markdown",
   "metadata": {},
   "source": [
    "### 链接mongodb的基本参数"
   ]
  },
  {
   "cell_type": "code",
   "execution_count": 11,
   "metadata": {},
   "outputs": [],
   "source": [
    "MONGO_CONNECTION_STRING = 'mongodb://localhost:27017'\n",
    "MONGO_DB_NAME = 'movies'\n",
    "MONGO_COLLECTION_NAME = 'movies'\n",
    "\n",
    "client = pymongo.MongoClient(MONGO_CONNECTION_STRING)\n",
    "db = client['movies']\n",
    "collection = db['movies']"
   ]
  },
  {
   "cell_type": "markdown",
   "metadata": {},
   "source": [
    "在这里我们声明了几个变量，介绍如下：\n",
    "\n",
    "- MONGO_CONNECTION_STRING：MongoDB 的连接字符串，里面定义了 MongoDB 的基本连接信息，如 host、port，还可以定义用户名密码等内容。\n",
    "- MONGO_DB_NAME：MongoDB 数据库的名称。\n",
    "- MONGO_COLLECTION_NAME：MongoDB 的集合名称。\n",
    "\n",
    "这里我们用 MongoClient 声明了一个连接对象，然后依次声明了存储的数据库和集合。\n",
    "\n",
    "接下来，我们再实现一个将数据保存到 MongoDB 的方法，实现如下："
   ]
  },
  {
   "cell_type": "markdown",
   "metadata": {},
   "source": [
    "### 定义存储函数"
   ]
  },
  {
   "cell_type": "code",
   "execution_count": 12,
   "metadata": {},
   "outputs": [],
   "source": [
    "def save_data(data):\n",
    "    collection.update_one({\n",
    "        'name': data.get('name')\n",
    "    }, {\n",
    "        '$set': data\n",
    "    }, upsert=True)\n"
   ]
  },
  {
   "cell_type": "markdown",
   "metadata": {},
   "source": [
    "### 重新编写主函数"
   ]
  },
  {
   "cell_type": "code",
   "execution_count": 14,
   "metadata": {},
   "outputs": [
    {
     "name": "stderr",
     "output_type": "stream",
     "text": [
      "2020-09-06 15:59:06,818 - INFO: scraping https://movie.douban.com/subject/30444960/?from=showing...\n",
      "2020-09-06 15:59:07,820 - INFO: get detail data {'cover': 'https://img9.doubanio.com/view/photo/s_ratio_poster/public/p2618403186.jpg', 'name': '信条 Tenet', 'categories': ['剧情', '动作', '科幻'], 'published_at': '2020-09-04(中国大陆)', 'director': '克里斯托弗·诺兰', 'score': ['7.9']}\n",
      "2020-09-06 15:59:07,821 - INFO: saving data to mongodb\n",
      "2020-09-06 15:59:07,822 - INFO: data saved successfully\n",
      "2020-09-06 15:59:07,822 - INFO: scraping https://movie.douban.com/subject/26754233/?from=showing...\n",
      "2020-09-06 15:59:08,894 - INFO: get detail data {'cover': 'https://img9.doubanio.com/view/photo/s_ratio_poster/public/p2615992304.jpg', 'name': '八佰', 'categories': ['剧情', '历史', '战争'], 'published_at': '2020-08-21(中国大陆)', 'director': '管虎', 'score': ['7.7']}\n",
      "2020-09-06 15:59:08,894 - INFO: saving data to mongodb\n",
      "2020-09-06 15:59:08,896 - INFO: data saved successfully\n",
      "2020-09-06 15:59:08,896 - INFO: scraping https://movie.douban.com/subject/27126336/?from=showing...\n",
      "2020-09-06 15:59:09,794 - INFO: get detail data {'cover': 'https://img2.doubanio.com/view/photo/s_ratio_poster/public/p2616924633.jpg', 'name': '假面饭店 マスカレード・ホテル', 'categories': ['剧情', '悬疑', '犯罪'], 'published_at': '2020-09-04(中国大陆)', 'director': '铃木雅之', 'score': ['6.4']}\n",
      "2020-09-06 15:59:09,794 - INFO: saving data to mongodb\n",
      "2020-09-06 15:59:09,796 - INFO: data saved successfully\n",
      "2020-09-06 15:59:09,796 - INFO: scraping https://movie.douban.com/subject/26348103/?from=showing...\n",
      "2020-09-06 15:59:10,802 - INFO: get detail data {'cover': 'https://img9.doubanio.com/view/photo/s_ratio_poster/public/p2616349755.jpg', 'name': '小妇人 Little Women', 'categories': ['剧情', '爱情'], 'published_at': '2020-08-25(中国大陆)', 'director': '格蕾塔·葛韦格', 'score': ['8.1']}\n",
      "2020-09-06 15:59:10,803 - INFO: saving data to mongodb\n",
      "2020-09-06 15:59:10,805 - INFO: data saved successfully\n",
      "2020-09-06 15:59:10,805 - INFO: scraping https://movie.douban.com/subject/30252495/?from=showing...\n",
      "2020-09-06 15:59:11,758 - INFO: get detail data {'cover': 'https://img9.doubanio.com/view/photo/s_ratio_poster/public/p2615015805.jpg', 'name': '1917', 'categories': ['剧情', '战争'], 'published_at': '2020-08-07(中国大陆)', 'director': '萨姆·门德斯', 'score': ['8.5']}\n",
      "2020-09-06 15:59:11,759 - INFO: saving data to mongodb\n",
      "2020-09-06 15:59:11,760 - INFO: data saved successfully\n",
      "2020-09-06 15:59:11,761 - INFO: scraping https://movie.douban.com/subject/30170833/?from=showing...\n",
      "2020-09-06 15:59:12,502 - INFO: get detail data {'cover': 'https://img1.doubanio.com/view/photo/s_ratio_poster/public/p2616740389.jpg', 'name': '荞麦疯长', 'categories': ['剧情', '爱情'], 'published_at': '2020-08-25(中国大陆)', 'director': '徐展雄', 'score': ['4.5']}\n",
      "2020-09-06 15:59:12,502 - INFO: saving data to mongodb\n",
      "2020-09-06 15:59:12,504 - INFO: data saved successfully\n",
      "2020-09-06 15:59:12,504 - INFO: scraping https://movie.douban.com/subject/26661193/?from=showing...\n",
      "2020-09-06 15:59:13,100 - INFO: get detail data {'cover': 'https://img3.doubanio.com/view/photo/s_ratio_poster/public/p2614225081.jpg', 'name': '我在时间尽头等你', 'categories': ['爱情', '奇幻'], 'published_at': '2020-08-25(中国大陆)', 'director': '姚婷婷', 'score': ['5.1']}\n",
      "2020-09-06 15:59:13,101 - INFO: saving data to mongodb\n",
      "2020-09-06 15:59:13,102 - INFO: data saved successfully\n",
      "2020-09-06 15:59:13,103 - INFO: scraping https://movie.douban.com/subject/30401849/?from=showing...\n",
      "2020-09-06 15:59:13,836 - INFO: get detail data {'cover': 'https://img2.doubanio.com/view/photo/s_ratio_poster/public/p2616349563.jpg', 'name': '1/2的魔法 Onward', 'categories': ['喜剧', '动画', '奇幻', '冒险'], 'published_at': '2020-08-19(中国大陆)', 'director': '丹·斯坎隆', 'score': ['7.7']}\n",
      "2020-09-06 15:59:13,837 - INFO: saving data to mongodb\n",
      "2020-09-06 15:59:13,839 - INFO: data saved successfully\n",
      "2020-09-06 15:59:13,840 - INFO: scraping https://movie.douban.com/subject/3541415/?from=showing...\n",
      "2020-09-06 15:59:14,589 - INFO: get detail data {'cover': 'https://img2.doubanio.com/view/photo/s_ratio_poster/public/p2616355133.jpg', 'name': '盗梦空间 Inception', 'categories': ['剧情', '科幻', '悬疑', '冒险'], 'published_at': '2010-09-01(中国大陆)', 'director': '克里斯托弗·诺兰', 'score': ['9.3']}\n",
      "2020-09-06 15:59:14,589 - INFO: saving data to mongodb\n",
      "2020-09-06 15:59:14,591 - INFO: data saved successfully\n",
      "2020-09-06 15:59:14,591 - INFO: scraping https://movie.douban.com/subject/34801105/?from=showing...\n",
      "2020-09-06 15:59:15,261 - INFO: get detail data {'cover': 'https://img3.doubanio.com/view/photo/s_ratio_poster/public/p2616925180.jpg', 'name': '阿里巴巴与神灯', 'categories': ['动画', '冒险'], 'published_at': '2020-09-05(中国大陆)', 'director': '朱葛', 'score': []}\n",
      "2020-09-06 15:59:15,262 - INFO: saving data to mongodb\n",
      "2020-09-06 15:59:15,263 - INFO: data saved successfully\n",
      "2020-09-06 15:59:15,264 - INFO: scraping https://movie.douban.com/subject/35182994/?from=showing...\n",
      "2020-09-06 15:59:15,704 - INFO: get detail data {'cover': 'https://img1.doubanio.com/view/photo/s_ratio_poster/public/p2618637379.jpg', 'name': '谁说我们不会爱2', 'categories': ['喜剧', '爱情'], 'published_at': '2020-09-04(中国大陆)', 'director': '刘宝贤', 'score': []}\n",
      "2020-09-06 15:59:15,704 - INFO: saving data to mongodb\n",
      "2020-09-06 15:59:15,705 - INFO: data saved successfully\n",
      "2020-09-06 15:59:15,706 - INFO: scraping https://movie.douban.com/subject/26985839/?from=showing...\n",
      "2020-09-06 15:59:16,306 - INFO: get detail data {'cover': 'https://img2.doubanio.com/view/photo/s_ratio_poster/public/p2616436093.jpg', 'name': '魔发精灵2 Trolls World Tour', 'categories': ['动画', '歌舞', '奇幻', '冒险'], 'published_at': '2020-08-21(中国大陆)', 'director': '沃尔特·道恩', 'score': ['6.3']}\n",
      "2020-09-06 15:59:16,306 - INFO: saving data to mongodb\n",
      "2020-09-06 15:59:16,307 - INFO: data saved successfully\n",
      "2020-09-06 15:59:16,308 - INFO: scraping https://movie.douban.com/subject/27000981/?from=showing...\n",
      "2020-09-06 15:59:16,878 - INFO: get detail data {'cover': 'https://img1.doubanio.com/view/photo/s_ratio_poster/public/p2614594787.jpg', 'name': '多力特的奇幻冒险 Dolittle', 'categories': ['喜剧', '奇幻', '冒险'], 'published_at': '2020-07-24(中国大陆)', 'director': '斯蒂芬·加汉', 'score': ['5.8']}\n",
      "2020-09-06 15:59:16,878 - INFO: saving data to mongodb\n",
      "2020-09-06 15:59:16,880 - INFO: data saved successfully\n",
      "2020-09-06 15:59:16,880 - INFO: scraping https://movie.douban.com/subject/1295038/?from=showing...\n",
      "2020-09-06 15:59:17,473 - INFO: get detail data {'cover': 'https://img9.doubanio.com/view/photo/s_ratio_poster/public/p2614949805.jpg', 'name': \"哈利·波特与魔法石 Harry Potter and the Sorcerer's Stone\", 'categories': ['奇幻', '冒险'], 'published_at': '2002-01-26(中国大陆)', 'director': '克里斯·哥伦布', 'score': ['9.1']}\n",
      "2020-09-06 15:59:17,473 - INFO: saving data to mongodb\n",
      "2020-09-06 15:59:17,475 - INFO: data saved successfully\n"
     ]
    }
   ],
   "source": [
    "def main():\n",
    "    detail = get_all_urls()\n",
    "    for d in detail:\n",
    "        html =get_html(d, headers)\n",
    "        data = parse_info(html)\n",
    "        logging.info('get detail data %s', data)\n",
    "        logging.info('saving data to mongodb')\n",
    "        save_data(data)\n",
    "        logging.info('data saved successfully')\n",
    "if __name__ == '__main__':\n",
    "    main()"
   ]
  }
 ],
 "metadata": {
  "kernelspec": {
   "display_name": "Python 3",
   "language": "python",
   "name": "python3"
  },
  "language_info": {
   "codemirror_mode": {
    "name": "ipython",
    "version": 3
   },
   "file_extension": ".py",
   "mimetype": "text/x-python",
   "name": "python",
   "nbconvert_exporter": "python",
   "pygments_lexer": "ipython3",
   "version": "3.7.6"
  }
 },
 "nbformat": 4,
 "nbformat_minor": 4
}
